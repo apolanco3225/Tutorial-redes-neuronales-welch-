{
 "cells": [
  {
   "cell_type": "markdown",
   "metadata": {},
   "source": [
    "## Tutorial Welch Labs en Español para Redes Neuronales\n",
    "\n",
    "<p align=\"center\">Aplicacion de una red neuronal desde cero para solucionar el siguiente problema: Predecir el resultado de un test teniendo como variables de entrada X1 = Numero de horas de sueño y X2 = Numero de horas de estudio la noche anterior.<p>\n",
    "<br>\n",
    "<img src=\"img/nn.png\" align=\"left\">"
   ]
  },
  {
   "cell_type": "code",
   "execution_count": 2,
   "metadata": {
    "collapsed": false
   },
   "outputs": [],
   "source": [
    "import numpy as np\n",
    "# numero de horas de sueño la noche anterior\n",
    "X = np.array(([3, 5], [5, 1], [10,2]), dtype= float)\n",
    "# numero de horas de estudio la noche anterior\n",
    "y = np.array(([75], [82], [93]), dtype= float)"
   ]
  },
  {
   "cell_type": "code",
   "execution_count": 3,
   "metadata": {
    "collapsed": false
   },
   "outputs": [
    {
     "name": "stdout",
     "output_type": "stream",
     "text": [
      "Arreglo con horas de sueño y estudio (variables de entrada en horas) :  [[  3.   5.]\n",
      " [  5.   1.]\n",
      " [ 10.   2.]]\n"
     ]
    }
   ],
   "source": [
    "print(\"Arreglo con horas de sueño y estudio (variables de entrada en horas) : \", X)"
   ]
  },
  {
   "cell_type": "code",
   "execution_count": 4,
   "metadata": {
    "collapsed": false
   },
   "outputs": [
    {
     "name": "stdout",
     "output_type": "stream",
     "text": [
      "Arreglo con el resultado del examen (variable de salida) :  [[ 75.]\n",
      " [ 82.]\n",
      " [ 93.]]\n"
     ]
    }
   ],
   "source": [
    "print(\"Arreglo con el resultado del examen (variable de salida) : \", y)"
   ]
  },
  {
   "cell_type": "markdown",
   "metadata": {},
   "source": [
    "Con el proposito de tener valores mas maleables se procede a escalizar los datos, este procedimiento consiste en dividir cada tipo de dato por su mayor valor en el conjunto de datos de cada variable. El resultado de escalizar es tener valores entre 0 y 1 en el conjunto de datos.\n",
    "<br>\n",
    "<img src=\"img/scaling.png\" align=\"center\">"
   ]
  },
  {
   "cell_type": "code",
   "execution_count": 6,
   "metadata": {
    "collapsed": false
   },
   "outputs": [
    {
     "name": "stdout",
     "output_type": "stream",
     "text": [
      "Nuevas entradas [[ 0.3  1. ]\n",
      " [ 0.5  0.2]\n",
      " [ 1.   0.4]]\n",
      "Nueva salida [[ 0.0075]\n",
      " [ 0.0082]\n",
      " [ 0.0093]]\n"
     ]
    }
   ],
   "source": [
    "# division entre el mayor numero de horas se tiene\n",
    "X = X/ np.amax(X, axis= 0)\n",
    "# se divide el resultado del test en 100, ya que es el maximo valor posible\n",
    "y = y/100 \n",
    "print(\"Nuevas entradas\", X)\n",
    "print(\"Nueva salida\", y)"
   ]
  },
  {
   "cell_type": "markdown",
   "metadata": {},
   "source": [
    "Una manera de visualizar la red neuronal es la siguiente:\n",
    "\n",
    "<img src=\"img/visualize.png\">\n",
    "<br>\n",
    "\n",
    "Dos neuronas en la capa de entrada que contienen las horas de sueño y de estudio y una neurona en la capa de salida llamada Y \"sombrero\", ya que su salida no es una replica de Y sino una aproximacion. Cualquier capa que se encuentre entre la capa de entrada y la de salida es llamada capa \"oculta\"; recientemente los investigadores han construido RN con muchas capas ocultas que son conocidas como \"redes de creencia profunda\" dando espacio al termino \"aprendizaje profundo\". \n",
    "\n",
    "<img src=\"img/hidden.png\">\n",
    "<br>\n",
    "\n",
    "Para este ejemplo sera utilizado una capa oculta con tres unidades, en el caso de que se adicionen muchas capas ocultas el resultado sera una red neuronal profunda.\n",
    "\n",
    "\n",
    "\n",
    "<img src=\"img/three.png\">\n",
    "<br>\n",
    "\n",
    "En la visualizacion de RN los circulos representan las neuronas y las lineas las sinapsis; las sinapsis tienen un trabajo sencillo, toman el valor de entrada y lo multiplican por especifico \"peso\" en la neurona y produce un resultado. \n",
    "\n",
    "<img src=\"img/synapse.png\">\n",
    "<br>\n",
    "\n",
    "El trabajo de las neuronas es un poco mas complicado, consiste en sumar la salida de todas las sinpasis y aplicar una funcion de activacion. Algunas funciones de activacion permiten a las redes neuronales realizar operaciones no lineales que modelos mas simples no pueden. En esta red se aplicara una funcion sigmoidal.\n",
    "\n",
    "\n",
    "<img src=\"img/sigmoid.png\">\n",
    "<br>\n",
    "\n"
   ]
  },
  {
   "cell_type": "code",
   "execution_count": 4,
   "metadata": {
    "collapsed": true
   },
   "outputs": [],
   "source": [
    "def sigmoid(z):\n",
    "    # apply sigmoid activation function\n",
    "    return 1/(1+ np.exp(-z))"
   ]
  },
  {
   "cell_type": "code",
   "execution_count": 9,
   "metadata": {
    "collapsed": false
   },
   "outputs": [
    {
     "data": {
      "image/png": "[encoded data removed]",
      "text/plain": [
       "<matplotlib.figure.Figure at 0x7ff08a1ac438>"
      ]
     },
     "metadata": {},
     "output_type": "display_data"
    }
   ],
   "source": [
    "import numpy as np\n",
    "import matplotlib.pyplot as plt\n",
    "# libraries to plot sigmoid function\n",
    "testInput = np.arange(-6,6,0.01)\n",
    "plt.plot(testInput, sigmoid(testInput), linewidth = 2)\n",
    "plt.grid(True)\n",
    "plt.ylabel(\"Output\")\n",
    "plt.xlabel(\"Input\")\n",
    "plt.show()"
   ]
  },
  {
   "cell_type": "code",
   "execution_count": null,
   "metadata": {
    "collapsed": true
   },
   "outputs": [],
   "source": [
    "import time \n",
    "weightsToTry = np.linspace(-10, 10, 1000)\n",
    "costs = np.zeros(1000)\n",
    "\n",
    "startTime = time.clock()\n",
    "for i in range(1000):\n",
    "    NN.W1[0,0] = weightsToTry[i]\n",
    "    yHat = NN.forward(X)\n",
    "    costs[i] = 0.5*su,((y-yHat)**2)\n",
    "    \n",
    "endTime = time.clock()"
   ]
  },
  {
   "cell_type": "code",
   "execution_count": 13,
   "metadata": {
    "collapsed": false
   },
   "outputs": [
    {
     "name": "stdout",
     "output_type": "stream",
     "text": [
      "0.73105857863 sigmoid applied to a scalar\n",
      "---------------------------------------\n",
      "[ 0.26894142  0.5         0.73105858] sigmoid applied to a vector\n",
      "---------------------------------------\n",
      "[[ 0.52573184  0.53144568  0.32960724]\n",
      " [ 0.51934781  0.68577719  0.21426755]\n",
      " [ 0.44941826  0.7589576   0.34961629]] sigmoid applied to a matrix\n",
      "---------------------------------------\n"
     ]
    }
   ],
   "source": [
    "# sigmoid applied to a scalar\n",
    "print(sigmoid(1), \"sigmoid applied to a scalar\")\n",
    "print(\"---------------------------------------\")\n",
    "# sigmoid applied to a vector\n",
    "print(sigmoid(np.array([-1, 0, 1])), \"sigmoid applied to a vector\")\n",
    "print(\"---------------------------------------\")\n",
    "# sigmoid applied to a matrix\n",
    "print(sigmoid(np.random.randn(3, 3)), \"sigmoid applied to a matrix\")\n",
    "print(\"---------------------------------------\")"
   ]
  },
  {
   "cell_type": "code",
   "execution_count": 14,
   "metadata": {
    "collapsed": false
   },
   "outputs": [],
   "source": [
    "class Neural_Network(object):\n",
    "    def __init__(self):\n",
    "        # define hyperparameters\n",
    "        self.inputLayerSize = 2\n",
    "        self.outputLayerSize = 1\n",
    "        self.hiddenLayerSize = 3\n",
    "        \n",
    "        # weights (parameters)\n",
    "        self.W1 = np.random.randn(self.inputLayerSize, \\\n",
    "                                 self.hiddenLayerSize)\n",
    "        self.W2 = np.random.randn(self.hiddenLayerSize, \\\n",
    "                                 self.outputLayerSize)\n",
    "        \n",
    "    def forward(self, x):\n",
    "        #propagate inputs through network\n",
    "        self.z2 = np.dot(X, self.W1)\n",
    "        self.a2 = self.sigmoid(self.z2)\n",
    "        self.z3 = np.dot(self.a2, self.W2)\n",
    "        yHat = self.sigmoid(self.z3)\n",
    "        return yHat\n",
    "    \n",
    "    def sigmoid(z):\n",
    "    # apply sigmoid activation function\n",
    "        return 1/(1+ np.exp(-z))\n",
    "        \n",
    "    "
   ]
  },
  {
   "cell_type": "code",
   "execution_count": 15,
   "metadata": {
    "collapsed": true
   },
   "outputs": [],
   "source": [
    "NN = Neural_Network()"
   ]
  },
  {
   "cell_type": "code",
   "execution_count": 16,
   "metadata": {
    "collapsed": false
   },
   "outputs": [
    {
     "ename": "NameError",
     "evalue": "name 'X' is not defined",
     "output_type": "error",
     "traceback": [
      "\u001b[0;31m---------------------------------------------------------------------------\u001b[0m",
      "\u001b[0;31mNameError\u001b[0m                                 Traceback (most recent call last)",
      "\u001b[0;32m<ipython-input-16-73b3ffa5035d>\u001b[0m in \u001b[0;36m<module>\u001b[0;34m()\u001b[0m\n\u001b[0;32m----> 1\u001b[0;31m \u001b[0myHat\u001b[0m \u001b[0;34m=\u001b[0m \u001b[0mNN\u001b[0m\u001b[0;34m.\u001b[0m\u001b[0mforward\u001b[0m\u001b[0;34m(\u001b[0m\u001b[0mX\u001b[0m\u001b[0;34m)\u001b[0m\u001b[0;34m\u001b[0m\u001b[0m\n\u001b[0m",
      "\u001b[0;31mNameError\u001b[0m: name 'X' is not defined"
     ]
    }
   ],
   "source": [
    "yHat = NN.forward(X)"
   ]
  },
  {
   "cell_type": "code",
   "execution_count": null,
   "metadata": {
    "collapsed": true
   },
   "outputs": [],
   "source": []
  }
 ],
 "metadata": {
  "kernelspec": {
   "display_name": "Python [default]",
   "language": "python",
   "name": "python3"
  },
  "language_info": {
   "codemirror_mode": {
    "name": "ipython",
    "version": 3
   },
   "file_extension": ".py",
   "mimetype": "text/x-python",
   "name": "python",
   "nbconvert_exporter": "python",
   "pygments_lexer": "ipython3",
   "version": "3.5.2"
  }
 },
 "nbformat": 4,
 "nbformat_minor": 2
}
